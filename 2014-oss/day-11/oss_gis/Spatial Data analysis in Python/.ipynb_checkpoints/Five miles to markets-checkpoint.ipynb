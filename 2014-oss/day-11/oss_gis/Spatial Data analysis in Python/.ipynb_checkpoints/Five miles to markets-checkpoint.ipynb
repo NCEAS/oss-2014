{
 "metadata": {
  "name": ""
 },
 "nbformat": 3,
 "nbformat_minor": 0,
 "worksheets": [
  {
   "cells": [
    {
     "cell_type": "code",
     "collapsed": false,
     "input": [
      "import pandas # data analysis\n",
      "import sh\n",
      "import sqlite3 \n",
      "import numpy as np\n",
      "import shapely\n",
      "from shapely import geometry as g\n",
      "import fiona\n",
      "\n",
      "pandas.set_option('display.max_columns', 20)\n",
      "pandas.set_option('display.max_rows', 25)"
     ],
     "language": "python",
     "metadata": {},
     "outputs": [],
     "prompt_number": 12
    },
    {
     "cell_type": "code",
     "collapsed": false,
     "input": [
      "with fiona.open('../Fun with Excel and QGIS/farmers_mkts.shp', 'r') as frms:\n",
      "    print len(frms)\n",
      "    feature = frms.next() # get the first item\n",
      "    print g.asShape(feature['geometry'])\n",
      "    "
     ],
     "language": "python",
     "metadata": {},
     "outputs": [
      {
       "output_type": "stream",
       "stream": "stdout",
       "text": [
        "8144\n",
        "POINT (-8475349.6178820617496967 4417090.4512640526518226)\n"
       ]
      }
     ],
     "prompt_number": 14
    },
    {
     "cell_type": "code",
     "collapsed": false,
     "input": [
      "with fiona.open('../Fun with Excel and QGIS/farmers_mkts.shp', 'r') as frms:\n",
      "    all_pts = [g.asShape(f['geometry']) for f in frms]\n",
      "    \n",
      "with fiona.open('../Fun with Excel and QGIS/farmers_mkts.shp', 'r') as frms:\n",
      "    snap_pts = [g.asShape(f['geometry']) for f in frms if f['properties']['SNAP'] == 'Y']\n",
      "    print len(snap_pts)\n",
      "    \n",
      "with fiona.open('../Fun with Excel and QGIS/farmers_mkts.shp', 'r') as frms:\n",
      "    wic_pts = [g.asShape(f['geometry']) for f in frms if f['properties']['WIC'] == 'Y']\n",
      "    print len(wic_pts)"
     ],
     "language": "python",
     "metadata": {},
     "outputs": []
    }
   ],
   "metadata": {}
  }
 ]
}