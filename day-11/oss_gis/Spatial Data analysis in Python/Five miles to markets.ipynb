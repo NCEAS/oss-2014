{
 "metadata": {
  "name": ""
 },
 "nbformat": 3,
 "nbformat_minor": 0,
 "worksheets": [
  {
   "cells": [
    {
     "cell_type": "code",
     "collapsed": false,
     "input": [
      "import pandas # data analysis\n",
      "import sh\n",
      "import sqlite3 \n",
      "import numpy as np\n",
      "import shapely\n",
      "from shapely import geometry as g\n",
      "import fiona\n",
      "\n",
      "pandas.set_option('display.max_columns', 20)\n",
      "pandas.set_option('display.max_rows', 25)"
     ],
     "language": "python",
     "metadata": {},
     "outputs": [],
     "prompt_number": 19
    },
    {
     "cell_type": "code",
     "collapsed": false,
     "input": [
      "with fiona.open('../Fun with Excel and QGIS/farmers_mkts_nc.shp', 'r') as frms:\n",
      "    print len(frms)\n",
      "    feature = frms.next() # get the first item\n",
      "    print g.asShape(feature['geometry'])\n",
      "    print feature['properties']['State']\n",
      "    "
     ],
     "language": "python",
     "metadata": {},
     "outputs": [
      {
       "output_type": "stream",
       "stream": "stdout",
       "text": [
        "8144\n",
        "POINT (-8475349.6178820617496967 4417090.4512640526518226)\n",
        "Virginia\n"
       ]
      }
     ],
     "prompt_number": 20
    },
    {
     "cell_type": "code",
     "collapsed": false,
     "input": [
      "with fiona.open('../Fun with Excel and QGIS/farmers_nc.shp', 'r') as frms:\n",
      "    all_pts = [g.asShape(f['geometry']) for f in frms if f['properties']['State']=='North Carolina']\n",
      "    print len(all_pts)\n",
      "    \n",
      "with fiona.open('../Fun with Excel and QGIS/farmers_nc.shp', 'r') as frms:\n",
      "    snap_pts = [g.asShape(f['geometry']) for f in frms if f['properties']['SNAP'] == 'Y' and f['properties']['State']=='North Carolina']\n",
      "    print len(snap_pts)\n",
      "    \n",
      "with fiona.open('../Fun with Excel and QGIS/farmers_nc.shp', 'r') as frms:\n",
      "    wic_pts = [g.asShape(f['geometry']) for f in frms if f['properties']['WIC'] == 'Y' and f['properties']['State']=='North Carolina']\n",
      "    print len(wic_pts)"
     ],
     "language": "python",
     "metadata": {},
     "outputs": [
      {
       "output_type": "stream",
       "stream": "stdout",
       "text": [
        "229\n",
        "31"
       ]
      },
      {
       "output_type": "stream",
       "stream": "stdout",
       "text": [
        "\n",
        "33"
       ]
      },
      {
       "output_type": "stream",
       "stream": "stdout",
       "text": [
        "\n"
       ]
      }
     ],
     "prompt_number": 21
    },
    {
     "cell_type": "code",
     "collapsed": false,
     "input": [
      "from shapely.ops import cascaded_union\n",
      "\n",
      "m_per_mile = 1609.34\n",
      "all_pts = cascaded_union([p.buffer(m_per_mile*5) for p in all_pts])\n",
      "snap_pts = cascaded_union([p.buffer(m_per_mile*5) for p in snap_pts])\n",
      "wic_pts = cascaded_union([p.buffer(m_per_mile*5) for p in wic_pts])\n"
     ],
     "language": "python",
     "metadata": {},
     "outputs": [],
     "prompt_number": 22
    },
    {
     "cell_type": "code",
     "collapsed": false,
     "input": [
      "from shapely.prepared import prep\n",
      "\n",
      "all_pts = prep(all_pts)\n",
      "snap_pts = prep(snap_pts)\n",
      "wic_pts = prep(wic_pts)"
     ],
     "language": "python",
     "metadata": {},
     "outputs": [],
     "prompt_number": 23
    },
    {
     "cell_type": "code",
     "collapsed": false,
     "input": [
      "with fiona.open('foodstamps_nc_pct.shp', 'r') as tracts:\n",
      "        meta = tracts.meta\n",
      "        meta['schema']['geometry'] = 'Point'\n",
      "        print meta['schema']\n",
      "        "
     ],
     "language": "python",
     "metadata": {},
     "outputs": [
      {
       "output_type": "stream",
       "stream": "stdout",
       "text": [
        "{'geometry': 'Point', 'properties': OrderedDict([(u'statefp', 'str'), (u'countyfp', 'str'), (u'tractce', 'str'), (u'geoid', 'str'), (u'name', 'str'), (u'namelsad', 'str'), (u'mtfcc', 'str'), (u'funcstat', 'str'), (u'aland', 'float'), (u'awater', 'float'), (u'intptlat', 'str'), (u'intptlon', 'str'), (u'shape_leng', 'float'), (u'shape_area', 'float'), (u'geoid_data', 'str'), (u'b19058e1', 'int:10'), (u'b19058e2', 'int:10'), (u'pct_povert', 'float'), (u'poverty_cl', 'int:10')])}\n"
       ]
      }
     ],
     "prompt_number": 24
    },
    {
     "cell_type": "code",
     "collapsed": false,
     "input": [
      "with fiona.open('foodstamps_nc_pct.shp', 'r') as tracts:\n",
      "    meta = tracts.meta\n",
      "    meta['schema']['properties']['has_mkt'] = 'int'\n",
      "    meta['schema']['properties']['snap_mkt'] = 'int'    \n",
      "    meta['schema']['properties']['wic_mkt'] = 'int'\n",
      "    meta['schema']['properties']['imp_mkt'] = 'int'\n",
      "\n",
      "        # Open an output file, using the same format driver and\n",
      "        # coordinate reference system as the source. The ``meta``\n",
      "        # mapping fills in the keyword parameters of fiona.open().\n",
      "\n",
      "    with fiona.open('foodstamps_nc_merged.shp', 'w', **meta) as sink:\n",
      "        for tract in tracts:\n",
      "            tract_geom = g.asShape(tract['geometry'])\n",
      "            tract['properties']['has_mkt'] = all_pts.intersects(tract_geom)\n",
      "            tract['properties']['snap_mkt'] = snap_pts.intersects(tract_geom)\n",
      "            tract['properties']['wic_mkt'] = wic_pts.intersects(tract_geom)\n",
      "            tract['properties']['imp_mkt'] = tract['properties']['snap_mkt'] and tract['properties']['wic_mkt']\n",
      "            \n",
      "            sink.write(tract)"
     ],
     "language": "python",
     "metadata": {},
     "outputs": [],
     "prompt_number": 25
    },
    {
     "cell_type": "code",
     "collapsed": false,
     "input": [],
     "language": "python",
     "metadata": {},
     "outputs": [],
     "prompt_number": 25
    }
   ],
   "metadata": {}
  }
 ]
}