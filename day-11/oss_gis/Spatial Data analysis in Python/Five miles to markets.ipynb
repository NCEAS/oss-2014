{
 "metadata": {
  "name": ""
 },
 "nbformat": 3,
 "nbformat_minor": 0,
 "worksheets": [
  {
   "cells": [
    {
     "cell_type": "markdown",
     "metadata": {},
     "source": [
      "# Five miles to the nearest market\n",
      "\n",
      "Okay, five miles is arbitrary.  But most people can travel five miles one way or another.  We want to figure out which cenus tracts have markets that are five miles or less from them, and we want to figure out which of these markets support payments from WIC and SNAP assistance programs.  \n",
      "\n",
      "If we were public health researchers, this could help us paint a success story for a particular state, or it could help us identify underserved counties.  When we have finished collecting and analyzing this data, we will visualize the result in the last section of the class. \n",
      "\n",
      "As before, we want to start with our imports.  This time we add [__Fiona__](http://toblerity.org/fiona/manual.html) and [__Shapely__](http://toblerity.org/shapely/manual.html).  Pandas is excellent for working with data where all you need to work with are the data values, the __properties__ of the feature collection.  Fiona lets us treat the dataset as a feature collection instead of a table, allowing us to access and manipulate the raw geometry values.  This will be important in our distance calculations.  Shapely provides us the capability of changing and performing computations on individual geometries."
     ]
    },
    {
     "cell_type": "code",
     "collapsed": false,
     "input": [
      "import shapely\n",
      "from shapely import geometry as g\n",
      "import fiona\n",
      "\n",
      "pandas.set_option('display.max_columns', 20)\n",
      "pandas.set_option('display.max_rows', 25)"
     ],
     "language": "python",
     "metadata": {},
     "outputs": [],
     "prompt_number": 19
    },
    {
     "cell_type": "markdown",
     "metadata": {},
     "source": [
      "First, what does Fiona give us?  A collection of features.  Features are basically just Python dictionaries that follow a convention.  The convention exactly maps to GeoJSON, but we can iterate over the features this way in a python for loop.\n",
      "\n",
      "Shapely lets us treat the geometry component of the feature as a shape, giving us the ability to do cool things like buffering, set-theoretic manipulations, and other fun tricks. Let's just open up our dataset with Fiona and Shapely and explore a simple example:"
     ]
    },
    {
     "cell_type": "code",
     "collapsed": false,
     "input": [
      "with fiona.open('../Fun with Excel and QGIS/farmers_mkts_nc.shp', 'r') as frms:\n",
      "    print len(frms)\n",
      "    feature = frms.next() # get the first item\n",
      "    print g.asShape(feature['geometry'])\n",
      "    print feature['properties']['State']\n",
      "    "
     ],
     "language": "python",
     "metadata": {},
     "outputs": [
      {
       "output_type": "stream",
       "stream": "stdout",
       "text": [
        "8144\n",
        "POINT (-8475349.6178820617496967 4417090.4512640526518226)\n",
        "Virginia\n"
       ]
      }
     ],
     "prompt_number": 20
    },
    {
     "cell_type": "markdown",
     "metadata": {},
     "source": [
      "Now that we know a little bit about Fiona, let's filter our collection for only the North Carolina markets.  We actually did this earlier in QGIS, but this is how you would do it in straight Python."
     ]
    },
    {
     "cell_type": "code",
     "collapsed": false,
     "input": [
      "with fiona.open('../Fun with Excel and QGIS/farmers_mkts_nc.shp', 'r') as frms:\n",
      "    all_pts = [g.asShape(f['geometry']) for f in frms if f['properties']['State']=='North Carolina']\n",
      "    print len(all_pts)"
     ],
     "language": "python",
     "metadata": {},
     "outputs": [
      {
       "output_type": "stream",
       "stream": "stdout",
       "text": [
        "229\n",
        "31"
       ]
      },
      {
       "output_type": "stream",
       "stream": "stdout",
       "text": [
        "\n",
        "33"
       ]
      },
      {
       "output_type": "stream",
       "stream": "stdout",
       "text": [
        "\n"
       ]
      }
     ],
     "prompt_number": 21
    },
    {
     "cell_type": "markdown",
     "metadata": {},
     "source": [
      "That's all the markets.  But what if we only want SNAP ones?"
     ]
    },
    {
     "cell_type": "code",
     "collapsed": false,
     "input": [
      "with fiona.open('../Fun with Excel and QGIS/farmers_mkts_nc.shp', 'r') as frms:\n",
      "    snap_pts = [g.asShape(f['geometry']) for f in frms if f['properties']['SNAP'] == 'Y' and f['properties']['State']=='North Carolina']\n",
      "    print len(snap_pts)"
     ],
     "language": "python",
     "metadata": {},
     "outputs": []
    },
    {
     "cell_type": "markdown",
     "metadata": {},
     "source": [
      "And now we get the WIC ones."
     ]
    },
    {
     "cell_type": "code",
     "collapsed": false,
     "input": [
      "with fiona.open('../Fun with Excel and QGIS/farmers_mkts_nc.shp', 'r') as frms:\n",
      "    wic_pts = [g.asShape(f['geometry']) for f in frms if f['properties']['WIC'] == 'Y' and f['properties']['State']=='North Carolina']\n",
      "    print len(wic_pts)"
     ],
     "language": "python",
     "metadata": {},
     "outputs": []
    },
    {
     "cell_type": "markdown",
     "metadata": {},
     "source": [
      "Now that we have all the points, how do we tell what's 5 miles from them?  We want to __buffer__ the points.  This use of buffer is the same as in \"buffer zone\".  A buffer is an offset from the actual geometry.  You can buffer any type of geometry, but here we're creating circles from the points. "
     ]
    },
    {
     "cell_type": "code",
     "collapsed": false,
     "input": [
      "m_per_mile = 1609.34\n",
      "\n",
      "all_pts = [p.buffer(m_per_mile*5) for p in all_pts]\n",
      "snap_pts = [p.buffer(m_per_mile*5) for p in snap_pts]\n",
      "wic_pts = [p.buffer(m_per_mile*5) for p in wic_pts]"
     ],
     "language": "python",
     "metadata": {},
     "outputs": []
    },
    {
     "cell_type": "markdown",
     "metadata": {},
     "source": [
      "We now have a collection of buffered points, and it's not that big, but what if we had thousands?  We'd want some way to make one shape that can be tested and not waste CPU time and kill our machines by testing the same shape thousands of times.  Shapely has a tool for this.  It's faster than QGIS's tool, which is why we use it here rather than doing the same thing in QGIS.  It's called a __cascaded_union__. It is highly efficient and can create a single geometry from thousands of components in a fraction of a second. "
     ]
    },
    {
     "cell_type": "code",
     "collapsed": false,
     "input": [
      "from shapely.ops import cascaded_union\n",
      "\n",
      "\n",
      "all_pts = cascaded_union(all_pts)\n",
      "snap_pts = cascaded_union(snap_pts)\n",
      "wic_pts = cascaded_union(wic_pts)"
     ],
     "language": "python",
     "metadata": {},
     "outputs": [],
     "prompt_number": 22
    },
    {
     "cell_type": "markdown",
     "metadata": {},
     "source": [
      "Now we have a single geoemtry for \"near markets\", one for \"near WIC markets\" and one for \"near SNAP markets\", but we're going to compare those against several thousand census tracts.  To speed up this operation, Shapely will build an index of the geometry and attach methods optimized in C for intersection, difference, and the like:"
     ]
    },
    {
     "cell_type": "code",
     "collapsed": false,
     "input": [
      "from shapely.prepared import prep\n",
      "\n",
      "all_pts = prep(all_pts)\n",
      "snap_pts = prep(snap_pts)\n",
      "wic_pts = prep(wic_pts)"
     ],
     "language": "python",
     "metadata": {},
     "outputs": [],
     "prompt_number": 23
    },
    {
     "cell_type": "markdown",
     "metadata": {},
     "source": [
      "Now lets get our tract dataset:"
     ]
    },
    {
     "cell_type": "code",
     "collapsed": false,
     "input": [
      "with fiona.open('foodstamps_nc_pct.shp', 'r') as tracts:\n",
      "        meta = tracts.meta\n",
      "        meta['schema']['geometry'] = 'Point'\n",
      "        print meta['schema']\n",
      "        "
     ],
     "language": "python",
     "metadata": {},
     "outputs": [
      {
       "output_type": "stream",
       "stream": "stdout",
       "text": [
        "{'geometry': 'Point', 'properties': OrderedDict([(u'statefp', 'str'), (u'countyfp', 'str'), (u'tractce', 'str'), (u'geoid', 'str'), (u'name', 'str'), (u'namelsad', 'str'), (u'mtfcc', 'str'), (u'funcstat', 'str'), (u'aland', 'float'), (u'awater', 'float'), (u'intptlat', 'str'), (u'intptlon', 'str'), (u'shape_leng', 'float'), (u'shape_area', 'float'), (u'geoid_data', 'str'), (u'b19058e1', 'int:10'), (u'b19058e2', 'int:10'), (u'pct_povert', 'float'), (u'poverty_cl', 'int:10')])}\n"
       ]
      }
     ],
     "prompt_number": 24
    },
    {
     "cell_type": "markdown",
     "metadata": {},
     "source": [
      "We are going to write out a new, final dataset that appends a few fields that we're computing using all the work we've done above.  First we read in the dataset and copy its schema.  Then we add the names of the new fields.  Boolean values are considered integers for the purposes of ESRI Shapefiles, so we assign our true/false variables the type \"int\""
     ]
    },
    {
     "cell_type": "code",
     "collapsed": false,
     "input": [
      "with fiona.open('foodstamps_nc_pct.shp', 'r') as tracts:\n",
      "    meta = tracts.meta\n",
      "    meta['schema']['properties']['has_mkt'] = 'int'\n",
      "    meta['schema']['properties']['snap_mkt'] = 'int'    \n",
      "    meta['schema']['properties']['wic_mkt'] = 'int'\n",
      "    meta['schema']['properties']['imp_mkt'] = 'int'\n",
      "\n",
      "    # Open an output file, using the same format driver and\n",
      "    # coordinate reference system as the source. The ``meta``\n",
      "    # mapping fills in the keyword parameters of fiona.open().\n",
      "\n",
      "    with fiona.open('foodstamps_nc_merged.shp', 'w', **meta) as sink:\n",
      "        for tract in tracts:\n",
      "            tract_geom = g.asShape(tract['geometry'])\n",
      "            tract['properties']['has_mkt'] = all_pts.intersects(tract_geom)\n",
      "            tract['properties']['snap_mkt'] = snap_pts.intersects(tract_geom)\n",
      "            tract['properties']['wic_mkt'] = wic_pts.intersects(tract_geom)\n",
      "            tract['properties']['imp_mkt'] = tract['properties']['snap_mkt'] and tract['properties']['wic_mkt']\n",
      "            \n",
      "            sink.write(tract)"
     ],
     "language": "python",
     "metadata": {},
     "outputs": [],
     "prompt_number": 25
    },
    {
     "cell_type": "markdown",
     "metadata": {},
     "source": [
      "A lot happens here, so let's break it down:\n",
      "\n",
      "1. We open the source dataset of tracts and copy the schema\n",
      "2. We open the destination dataset with the new schema\n",
      "3. We read the tracts from the source dataset and for each one:\n",
      "    1. Make the shape a proper Shapely geometry.\n",
      "    2. Compare that geometry with the market points and assign a new property to the tract for \"has_mkt\"\n",
      "    3. Compare the geometry with the other points and compute snap_mkt, wic_mkt, and imp_mkt by determing if the buffered point geometry and the tract geometry share any space (geometric intersection)."
     ]
    }
   ],
   "metadata": {}
  }
 ]
}